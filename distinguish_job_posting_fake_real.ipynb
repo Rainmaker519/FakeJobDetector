{
 "cells": [
  {
   "cell_type": "code",
   "execution_count": 1,
   "id": "c8b0fdf2",
   "metadata": {},
   "outputs": [],
   "source": [
    "import pandas as pd\n",
    "import math\n",
    "from sklearn.linear_model import SGDClassifier\n",
    "from sklearn.feature_extraction.text import TfidfVectorizer\n",
    "from sklearn.metrics import f1_score\n",
    "import time"
   ]
  },
  {
   "cell_type": "code",
   "execution_count": 2,
   "id": "5ab8fbff",
   "metadata": {},
   "outputs": [
    {
     "name": "stdout",
     "output_type": "stream",
     "text": [
      "C:\\Users\\Charlie\\Documents\\portfolio_projects\n"
     ]
    }
   ],
   "source": [
    "import os\n",
    "print(os.getcwd())"
   ]
  },
  {
   "cell_type": "code",
   "execution_count": 3,
   "id": "b26add17",
   "metadata": {},
   "outputs": [],
   "source": [
    "#import sys\n",
    "#sys.path.insert(0,\"C:\\\\Users\\Charles\\Documents\\GitHub\\DSCI-633\\\\assignments\")"
   ]
  },
  {
   "cell_type": "code",
   "execution_count": 5,
   "id": "60abccd1",
   "metadata": {},
   "outputs": [],
   "source": [
    "from my_evaluation import my_evaluation\n",
    "from my_GA import my_GA\n",
    "\n",
    "def obj_func1(predictions, actuals, pred_proba=None):\n",
    "    # Two objectives: higher recall and lower false positive rate\n",
    "    eval = my_evaluation(predictions, actuals, pred_proba)\n",
    "    return [eval.recall(), - eval.precision()]\n",
    "\n",
    "def obj_func2(predictions, actuals, pred_proba=None):\n",
    "    # Two objectives: higher recall and lower false positive rate\n",
    "    eval = my_evaluation(predictions, actuals, pred_proba)\n",
    "    return eval.f1()"
   ]
  },
  {
   "cell_type": "code",
   "execution_count": 6,
   "id": "25b92b4b",
   "metadata": {},
   "outputs": [],
   "source": [
    "#Model"
   ]
  },
  {
   "cell_type": "code",
   "execution_count": 7,
   "id": "3c387c5f",
   "metadata": {},
   "outputs": [],
   "source": [
    "class my_model():\n",
    "    def fit(self, X, y):\n",
    "        # do not exceed 29 mins\n",
    "        X = X.drop(['telecommuting','has_company_logo','has_questions'],axis=1)\n",
    "        self.preprocessor = TfidfVectorizer(stop_words='english', norm='l2', use_idf=True, smooth_idf=False,lowercase=False,max_df=.432,min_df=0.0)\n",
    "        XX = self.preprocessor.fit_transform(X[\"description\"].values.astype('U'))\n",
    "\n",
    "        self.clf = SGDClassifier(class_weight=\"balanced\",alpha=0.00005,average=False,power_t=4.15)\n",
    "        self.clf.fit(XX, y)\n",
    "        return\n",
    "\n",
    "    def predict(self, X):\n",
    "        # remember to apply the same preprocessing in fit() on test data before making predictions\n",
    "        X = X.drop(['telecommuting','has_company_logo','has_questions'],axis=1)\n",
    "        XX = self.preprocessor.transform(X[\"description\"].values.astype('U'))\n",
    "        predictions = self.clf.predict(XX)\n",
    "        return predictions"
   ]
  },
  {
   "cell_type": "code",
   "execution_count": 8,
   "id": "b164df72",
   "metadata": {},
   "outputs": [],
   "source": [
    "#Functions"
   ]
  },
  {
   "cell_type": "code",
   "execution_count": 9,
   "id": "95398083",
   "metadata": {},
   "outputs": [],
   "source": [
    "def test(data):#maxFeatures):#,maxDF,minDF):\n",
    "    y = data[\"fraudulent\"]\n",
    "    X = data.drop(['fraudulent'], axis=1)\n",
    "    split_point = int(0.8 * len(y))\n",
    "    #train = data[:split_point]\n",
    "    split_point = int(0.8 * len(y))\n",
    "    #X_train, y_train = getTrainingData(train)\n",
    "    X_train = X.iloc[:split_point]\n",
    "    X_test = X.iloc[split_point:]\n",
    "    y_train = y.iloc[:split_point]\n",
    "    y_test = y.iloc[split_point:]\n",
    "    clf = my_model()\n",
    "    clf.fit(X_train,y_train)\n",
    "    predictions = clf.predict(X_test)\n",
    "    eval = my_evaluation(predictions, y_test)\n",
    "    f1 = eval.f1(target=1)\n",
    "    return f1"
   ]
  },
  {
   "cell_type": "code",
   "execution_count": 10,
   "id": "188242cb",
   "metadata": {},
   "outputs": [],
   "source": [
    "def tuneDF(X,rangeMaxDF,rangeMinDF,rangeMaxFeatures,incrementFactor):#works for a multiple values, not optimal since needs editing in other methods, do this in HPTuning.py\n",
    "    incrementMaxDF = (rangeMaxDF[1] - rangeMaxDF[0]) / incrementFactor\n",
    "    incrementMinDF = (rangeMinDF[1] - rangeMinDF[0]) / incrementFactor\n",
    "    bestF1 = 0\n",
    "    bestValues = [-1,-1]\n",
    "    print(incrementMaxDF)\n",
    "    print(incrementMinDF)\n",
    "    for i in range(incrementFactor):\n",
    "        for j in range(incrementFactor):\n",
    "            locMax = incrementMaxDF * i\n",
    "            locMin = incrementMinDF * j\n",
    "            try:\n",
    "                newF1 = test(data,locMax,locMin)\n",
    "                if newF1 >= bestF1:\n",
    "                    bestF1 = newF1\n",
    "                    bestValues = [incrementMaxDF * i, incrementMinDF * j]\n",
    "                print(\"no exc\")\n",
    "            except:\n",
    "                print(\"exc handled\")\n",
    "    return [bestValues,bestF1]"
   ]
  },
  {
   "cell_type": "code",
   "execution_count": 11,
   "id": "60b95f9a",
   "metadata": {},
   "outputs": [],
   "source": [
    "def tuneOther(X,rangeMaxFeatures,incrementFactor):#works for a single value, not optimal since needs editing in other methods, do this in HPTuning.py\n",
    "    incrementMaxFeatures = (rangeMaxFeatures[1] - rangeMaxFeatures[0]) / incrementFactor\n",
    "    bestF1 = 0\n",
    "    bestValues = [1]\n",
    "    print(incrementMaxFeatures)\n",
    "    count = 0\n",
    "    for i in range(incrementFactor):#for maxfeatures\n",
    "        if i == 0:\n",
    "            locMaxFeatures = 1\n",
    "        else:\n",
    "            locMaxFeatures = incrementMaxFeatures * i\n",
    "        print(locMaxFeatures)\n",
    "        newF1 = test(data,int(locMaxFeatures))\n",
    "        if newF1 >= bestF1:\n",
    "                bestF1 = newF1\n",
    "                bestValues = [locMaxFeatures]\n",
    "        count += 1\n",
    "                        \n",
    "    #print(\"COUNT\")\n",
    "    #print(count)\n",
    "    return [bestValues,bestF1]"
   ]
  },
  {
   "cell_type": "code",
   "execution_count": 13,
   "id": "d9af0eab",
   "metadata": {},
   "outputs": [
    {
     "name": "stdout",
     "output_type": "stream",
     "text": [
      "f1: 0.8561665811345204\n",
      "0.02506255785624186\n"
     ]
    }
   ],
   "source": [
    "if __name__ == \"__main__\":\n",
    "    #!!!!!!!!!!!!!!!!!!!!!!!!!!!!!!!!!!!!!!!!!!!        I'm getting way gd high scores since I balanced the training data, seems wrong so look into that        !!!!!!!!!!!!!!!!!!!!!!!!\n",
    "    start = time.time()\n",
    "    # Load data\n",
    "    data = pd.read_csv(\"job_train.csv\")\n",
    "    # Replace missing values with empty strings\n",
    "    data = data.fillna(\"\")\n",
    "    \"\"\"#For single test\n",
    "    f1 = test(data)#,bestVals[0])#,maxDF,minDF)\n",
    "    print(\"F1 score: %f\" % f1)\n",
    "    #print(\"F1Sklearn: \" + str(f1[1]))\n",
    "    runtime = (time.time() - start) / 60.0\n",
    "    print(runtime)\n",
    "    #print(bestVals)\n",
    "    #print(maxDF)\n",
    "    #print(minDF)\n",
    "    ##BEST MAX VAL IS .423\n",
    "    ##Best MIN VAL IS 0.0\n",
    "    ##BEST MAXFEATURES IS None\n",
    "    \"\"\"\n",
    "    #For testing average over cnt runs\n",
    "    sumf1 = 0\n",
    "    cnt = 10\n",
    "    for i in range(cnt):\n",
    "        sumf1 += test(data)\n",
    "    print(\"f1: \" + str(sumf1/cnt))\n",
    "    runtime = (time.time() - start) / 60.0\n",
    "    print(str(runtime/cnt))"
   ]
  },
  {
   "cell_type": "code",
   "execution_count": null,
   "id": "4820fde6",
   "metadata": {},
   "outputs": [],
   "source": [
    "#Now I need to make a little application where you can use the trained model to filter out bad job listings, maybe look more\n",
    "#into how many good offers it might accidentally misclassify as bad job offers, because if thats high there is no point."
   ]
  }
 ],
 "metadata": {
  "kernelspec": {
   "display_name": "Python 3 (ipykernel)",
   "language": "python",
   "name": "python3"
  },
  "language_info": {
   "codemirror_mode": {
    "name": "ipython",
    "version": 3
   },
   "file_extension": ".py",
   "mimetype": "text/x-python",
   "name": "python",
   "nbconvert_exporter": "python",
   "pygments_lexer": "ipython3",
   "version": "3.8.11"
  }
 },
 "nbformat": 4,
 "nbformat_minor": 5
}
